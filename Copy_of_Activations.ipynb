{
  "nbformat": 4,
  "nbformat_minor": 0,
  "metadata": {
    "colab": {
      "name": "Copy of Activations.ipynb",
      "provenance": [],
      "include_colab_link": true
    },
    "kernelspec": {
      "name": "python3",
      "display_name": "Python 3"
    }
  },
  "cells": [
    {
      "cell_type": "markdown",
      "metadata": {
        "id": "view-in-github",
        "colab_type": "text"
      },
      "source": [
        "<a href=\"https://colab.research.google.com/github/aryama-ray/pgdds/blob/arymain/Copy_of_Activations.ipynb\" target=\"_parent\"><img src=\"https://colab.research.google.com/assets/colab-badge.svg\" alt=\"Open In Colab\"/></a>"
      ]
    },
    {
      "cell_type": "code",
      "metadata": {
        "id": "A2t9qqGF70qY"
      },
      "source": [
        "\r\n",
        "# output = w*x + b\r\n",
        "# output = activation_function(output)\r\n",
        "import torch\r\n",
        "import torch.nn as nn\r\n",
        "import torch.nn.functional as F"
      ],
      "execution_count": 5,
      "outputs": []
    },
    {
      "cell_type": "code",
      "metadata": {
        "id": "RNM1yKMx78Os"
      },
      "source": [
        "x = torch.tensor([-1.0, 1.0, 2.0, 3.0])\r\n"
      ],
      "execution_count": 6,
      "outputs": []
    },
    {
      "cell_type": "code",
      "metadata": {
        "id": "pEAkvOMm8G5K",
        "colab": {
          "base_uri": "https://localhost:8080/"
        },
        "outputId": "f03bb3fc-6ea6-4897-8ff3-266d2378ca0f"
      },
      "source": [
        "# sofmax\r\n",
        "output = torch.softmax(x, dim=0)\r\n",
        "print(output)\r\n",
        "sm = nn.Softmax(dim=0)\r\n",
        "output = sm(x)\r\n",
        "print(output)"
      ],
      "execution_count": 7,
      "outputs": [
        {
          "output_type": "stream",
          "text": [
            "tensor([0.0120, 0.0889, 0.2418, 0.6572])\n",
            "tensor([0.0120, 0.0889, 0.2418, 0.6572])\n"
          ],
          "name": "stdout"
        }
      ]
    },
    {
      "cell_type": "code",
      "metadata": {
        "id": "zw04OEKW8IKJ",
        "colab": {
          "base_uri": "https://localhost:8080/"
        },
        "outputId": "0fe524fe-4815-42f1-c2e1-45c9e4efd5b3"
      },
      "source": [
        "# sigmoid \r\n",
        "output = torch.sigmoid(x)\r\n",
        "print(output)\r\n",
        "s = nn.Sigmoid()\r\n",
        "output = s(x)\r\n",
        "print(output)"
      ],
      "execution_count": 8,
      "outputs": [
        {
          "output_type": "stream",
          "text": [
            "tensor([0.2689, 0.7311, 0.8808, 0.9526])\n",
            "tensor([0.2689, 0.7311, 0.8808, 0.9526])\n"
          ],
          "name": "stdout"
        }
      ]
    },
    {
      "cell_type": "code",
      "metadata": {
        "id": "0VB-Rsg18KyM",
        "colab": {
          "base_uri": "https://localhost:8080/"
        },
        "outputId": "82ac769b-a1a3-4d42-bcd5-a3378a4000bd"
      },
      "source": [
        "#tanh\r\n",
        "output = torch.tanh(x)\r\n",
        "print(output)\r\n",
        "t = nn.Tanh()\r\n",
        "output = t(x)\r\n",
        "print(output)"
      ],
      "execution_count": 9,
      "outputs": [
        {
          "output_type": "stream",
          "text": [
            "tensor([-0.7616,  0.7616,  0.9640,  0.9951])\n",
            "tensor([-0.7616,  0.7616,  0.9640,  0.9951])\n"
          ],
          "name": "stdout"
        }
      ]
    },
    {
      "cell_type": "code",
      "metadata": {
        "id": "8fgOfmAv8Oor",
        "colab": {
          "base_uri": "https://localhost:8080/"
        },
        "outputId": "982f66a0-c27d-42ba-e66b-52353b4fa6ed"
      },
      "source": [
        "# relu\r\n",
        "output = torch.relu(x)\r\n",
        "print(output)\r\n",
        "relu = nn.ReLU()\r\n",
        "output = relu(x)\r\n",
        "print(output)\r\n"
      ],
      "execution_count": 10,
      "outputs": [
        {
          "output_type": "stream",
          "text": [
            "tensor([0., 1., 2., 3.])\n",
            "tensor([0., 1., 2., 3.])\n"
          ],
          "name": "stdout"
        }
      ]
    },
    {
      "cell_type": "code",
      "metadata": {
        "id": "tlqfvQxg7-eZ",
        "colab": {
          "base_uri": "https://localhost:8080/"
        },
        "outputId": "6f3fdeef-b109-4d19-acd2-f12da5e9417f"
      },
      "source": [
        "\r\n",
        "# leaky relu\r\n",
        "output = F.leaky_relu(x)\r\n",
        "print(output)\r\n",
        "lrelu = nn.LeakyReLU()\r\n",
        "output = lrelu(x)\r\n",
        "print(output)\r\n",
        "\r\n"
      ],
      "execution_count": 11,
      "outputs": [
        {
          "output_type": "stream",
          "text": [
            "tensor([-0.0100,  1.0000,  2.0000,  3.0000])\n",
            "tensor([-0.0100,  1.0000,  2.0000,  3.0000])\n"
          ],
          "name": "stdout"
        }
      ]
    },
    {
      "cell_type": "code",
      "metadata": {
        "id": "keAxjKLx8FgC"
      },
      "source": [
        "#nn.ReLU() creates an nn.Module which you can add e.g. to an nn.Sequential model.\r\n",
        "#torch.relu on the other side is just the functional API call to the relu function,\r\n",
        "#so that you can add it e.g. in your forward method yourself.\r\n",
        "\r\n",
        "# option 1 (create nn modules)\r\n",
        "class NeuralNet(nn.Module):\r\n",
        "    def __init__(self, input_size, hidden_size):\r\n",
        "        super(NeuralNet, self).__init__()\r\n",
        "        self.linear1 = nn.Linear(input_size, hidden_size)\r\n",
        "        self.relu = nn.ReLU()\r\n",
        "        self.linear2 = nn.Linear(hidden_size, 1)\r\n",
        "        self.sigmoid = nn.Sigmoid()\r\n",
        "    \r\n",
        "    def forward(self, x):\r\n",
        "        out = self.linear1(x)\r\n",
        "        out = self.relu(out)\r\n",
        "        out = self.linear2(out)\r\n",
        "        out = self.sigmoid(out)\r\n",
        "        return out\r\n",
        "\r\n",
        "# option 2 (use activation functions directly in forward pass)\r\n",
        "class NeuralNet(nn.Module):\r\n",
        "    def __init__(self, input_size, hidden_size):\r\n",
        "        super(NeuralNet, self).__init__()\r\n",
        "        self.linear1 = nn.Linear(input_size, hidden_size)\r\n",
        "        self.linear2 = nn.Linear(hidden_size, 1)\r\n",
        "    \r\n",
        "    def forward(self, x):\r\n",
        "        out = torch.relu(self.linear1(x))\r\n",
        "        out = torch.sigmoid(self.linear2(out))\r\n",
        "        return out"
      ],
      "execution_count": 12,
      "outputs": []
    }
  ]
}