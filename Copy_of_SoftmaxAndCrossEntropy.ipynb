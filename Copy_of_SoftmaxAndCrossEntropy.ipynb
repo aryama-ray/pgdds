{
  "nbformat": 4,
  "nbformat_minor": 0,
  "metadata": {
    "colab": {
      "name": "Copy of SoftmaxAndCrossEntropy.ipynb",
      "provenance": [],
      "include_colab_link": true
    },
    "kernelspec": {
      "name": "python3",
      "display_name": "Python 3"
    }
  },
  "cells": [
    {
      "cell_type": "markdown",
      "metadata": {
        "id": "view-in-github",
        "colab_type": "text"
      },
      "source": [
        "<a href=\"https://colab.research.google.com/github/aryama-ray/pgdds/blob/arymain/Copy_of_SoftmaxAndCrossEntropy.ipynb\" target=\"_parent\"><img src=\"https://colab.research.google.com/assets/colab-badge.svg\" alt=\"Open In Colab\"/></a>"
      ]
    },
    {
      "cell_type": "code",
      "metadata": {
        "id": "w-t_H7Tf7MdF"
      },
      "source": [
        "import torch\r\n",
        "import torch.nn as nn\r\n",
        "import numpy as np\r\n"
      ],
      "execution_count": 3,
      "outputs": []
    },
    {
      "cell_type": "code",
      "metadata": {
        "id": "bbP4xYlQ7TnU",
        "colab": {
          "base_uri": "https://localhost:8080/"
        },
        "outputId": "2cf578cb-771f-49ef-eefc-53c3a6cc9452"
      },
      "source": [
        "#\r\n",
        "#        -> 2.0              -> 0.65  \r\n",
        "# Linear -> 1.0  -> Softmax  -> 0.25   -> CrossEntropy(y, y_hat)\r\n",
        "#        -> 0.1              -> 0.1                   \r\n",
        "#\r\n",
        "#     scores(logits)      probabilities\r\n",
        "#                           sum = 1.0\r\n",
        "#\r\n",
        "\r\n",
        "# Softmax applies the exponential function to each element, and normalizes\r\n",
        "# by dividing by the sum of all these exponentials\r\n",
        "# -> squashes the output to be between 0 and 1 = probability\r\n",
        "# sum of all probabilities is 1\r\n",
        "def softmax(x):\r\n",
        "    return np.exp(x) / np.sum(np.exp(x), axis=0)\r\n",
        "\r\n",
        "x = np.array([2.0, 1.0, 0.1])\r\n",
        "outputs = softmax(x)\r\n",
        "print('softmax numpy:', outputs)\r\n",
        "\r\n",
        "x = torch.tensor([2.0, 1.0, 0.1])\r\n",
        "outputs = torch.softmax(x, dim=0) # along values along first axis\r\n",
        "print('softmax torch:', outputs)\r\n"
      ],
      "execution_count": 4,
      "outputs": [
        {
          "output_type": "stream",
          "text": [
            "softmax numpy: [0.65900114 0.24243297 0.09856589]\n",
            "softmax torch: tensor([0.6590, 0.2424, 0.0986])\n"
          ],
          "name": "stdout"
        }
      ]
    },
    {
      "cell_type": "code",
      "metadata": {
        "id": "7DpXok_n7XD6"
      },
      "source": [
        "# Cross entropy\r\n",
        "# Cross-entropy loss, or log loss, measures the performance of a classification model \r\n",
        "# whose output is a probability value between 0 and 1. \r\n",
        "# -> loss increases as the predicted probability diverges from the actual label\r\n",
        "def cross_entropy(actual, predicted):\r\n",
        "    EPS = 1e-15\r\n",
        "    predicted = np.clip(predicted, EPS, 1 - EPS)\r\n",
        "    loss = -np.sum(actual * np.log(predicted))\r\n",
        "    return loss # / float(predicted.shape[0])\r\n"
      ],
      "execution_count": 5,
      "outputs": []
    },
    {
      "cell_type": "code",
      "metadata": {
        "id": "_8GIPcHC7Zs0",
        "colab": {
          "base_uri": "https://localhost:8080/"
        },
        "outputId": "46254df4-6f99-48eb-f7bf-b4b8ffa01df6"
      },
      "source": [
        "# y must be one hot encoded\r\n",
        "# if class 0: [1 0 0]\r\n",
        "# if class 1: [0 1 0]\r\n",
        "# if class 2: [0 0 1]\r\n",
        "Y = np.array([1, 0, 0])\r\n",
        "Y_pred_good = np.array([0.7, 0.2, 0.1])\r\n",
        "Y_pred_bad = np.array([0.1, 0.3, 0.6])\r\n",
        "l1 = cross_entropy(Y, Y_pred_good)\r\n",
        "l2 = cross_entropy(Y, Y_pred_bad)\r\n",
        "print(f'Loss1 numpy: {l1:.4f}')\r\n",
        "print(f'Loss2 numpy: {l2:.4f}')"
      ],
      "execution_count": 6,
      "outputs": [
        {
          "output_type": "stream",
          "text": [
            "Loss1 numpy: 0.3567\n",
            "Loss2 numpy: 2.3026\n"
          ],
          "name": "stdout"
        }
      ]
    },
    {
      "cell_type": "code",
      "metadata": {
        "id": "GQhfE2dq7dEB"
      },
      "source": [
        "# CrossEntropyLoss in PyTorch (applies Softmax)\r\n",
        "# nn.LogSoftmax + nn.NLLLoss\r\n",
        "# NLLLoss = negative log likelihood loss\r\n",
        "loss = nn.CrossEntropyLoss()\r\n",
        "# loss(input, target)"
      ],
      "execution_count": 7,
      "outputs": []
    },
    {
      "cell_type": "code",
      "metadata": {
        "id": "br_XUMBl7gOL"
      },
      "source": [
        "# target is of size nSamples = 1\r\n",
        "# each element has class label: 0, 1, or 2\r\n",
        "# Y (=target) contains class labels, not one-hot\r\n",
        "Y = torch.tensor([0])"
      ],
      "execution_count": 8,
      "outputs": []
    },
    {
      "cell_type": "code",
      "metadata": {
        "id": "1_at-Y8w7jBZ"
      },
      "source": [
        "# input is of size nSamples x nClasses = 1 x 3\r\n",
        "# y_pred (=input) must be raw, unnormalizes scores (logits) for each class, not softmax\r\n",
        "Y_pred_good = torch.tensor([[2.0, 1.0, 0.1]])\r\n",
        "Y_pred_bad = torch.tensor([[0.5, 2.0, 0.3]])\r\n",
        "l1 = loss(Y_pred_good, Y)\r\n",
        "l2 = loss(Y_pred_bad, Y)"
      ],
      "execution_count": 9,
      "outputs": []
    },
    {
      "cell_type": "code",
      "metadata": {
        "id": "iIUVNXKE7l3j",
        "colab": {
          "base_uri": "https://localhost:8080/"
        },
        "outputId": "1546077f-70e4-4ea3-d779-328537885c52"
      },
      "source": [
        "print(f'PyTorch Loss1: {l1.item():.4f}')\r\n",
        "print(f'PyTorch Loss2: {l2.item():.4f}')\r\n",
        "\r\n",
        "# get predictions\r\n",
        "_, predictions1 = torch.max(Y_pred_good, 1)\r\n",
        "_, predictions2 = torch.max(Y_pred_bad, 1)\r\n",
        "print(f'Actual class: {Y.item()}, Y_pred1: {predictions1.item()}, Y_pred2: {predictions2.item()}')"
      ],
      "execution_count": 10,
      "outputs": [
        {
          "output_type": "stream",
          "text": [
            "PyTorch Loss1: 0.4170\n",
            "PyTorch Loss2: 1.8406\n",
            "Actual class: 0, Y_pred1: 0, Y_pred2: 1\n"
          ],
          "name": "stdout"
        }
      ]
    },
    {
      "cell_type": "code",
      "metadata": {
        "id": "tnl1B_A67ohd",
        "colab": {
          "base_uri": "https://localhost:8080/"
        },
        "outputId": "9e3bf96c-c3f2-44d1-a9eb-7968aa6e9d0e"
      },
      "source": [
        "# allows batch loss for multiple samples\r\n",
        "\r\n",
        "# target is of size nBatch = 3\r\n",
        "# each element has class label: 0, 1, or 2\r\n",
        "Y = torch.tensor([2, 0, 1])\r\n",
        "\r\n",
        "# input is of size nBatch x nClasses = 3 x 3\r\n",
        "# Y_pred are logits (not softmax)\r\n",
        "Y_pred_good = torch.tensor(\r\n",
        "    [[0.1, 0.2, 3.9], # predict class 2\r\n",
        "    [1.2, 0.1, 0.3], # predict class 0\r\n",
        "    [0.3, 2.2, 0.2]]) # predict class 1\r\n",
        "\r\n",
        "Y_pred_bad = torch.tensor(\r\n",
        "    [[0.9, 0.2, 0.1],\r\n",
        "    [0.1, 0.3, 1.5],\r\n",
        "    [1.2, 0.2, 0.5]])\r\n",
        "\r\n",
        "l1 = loss(Y_pred_good, Y)\r\n",
        "l2 = loss(Y_pred_bad, Y)\r\n",
        "print(f'Batch Loss1:  {l1.item():.4f}')\r\n",
        "print(f'Batch Loss2: {l2.item():.4f}')\r\n",
        "\r\n",
        "# get predictions\r\n",
        "_, predictions1 = torch.max(Y_pred_good, 1)\r\n",
        "_, predictions2 = torch.max(Y_pred_bad, 1)\r\n",
        "print(f'Actual class: {Y}, Y_pred1: {predictions1}, Y_pred2: {predictions2}')\r\n"
      ],
      "execution_count": 11,
      "outputs": [
        {
          "output_type": "stream",
          "text": [
            "Batch Loss1:  0.2834\n",
            "Batch Loss2: 1.6418\n",
            "Actual class: tensor([2, 0, 1]), Y_pred1: tensor([2, 0, 1]), Y_pred2: tensor([0, 2, 0])\n"
          ],
          "name": "stdout"
        }
      ]
    },
    {
      "cell_type": "code",
      "metadata": {
        "id": "cdT-uQ427r6l"
      },
      "source": [
        "# Binary classification\r\n",
        "class NeuralNet1(nn.Module):\r\n",
        "    def __init__(self, input_size, hidden_size):\r\n",
        "        super(NeuralNet1, self).__init__()\r\n",
        "        self.linear1 = nn.Linear(input_size, hidden_size) \r\n",
        "        self.relu = nn.ReLU()\r\n",
        "        self.linear2 = nn.Linear(hidden_size, 1)  \r\n",
        "    \r\n",
        "    def forward(self, x):\r\n",
        "        out = self.linear1(x)\r\n",
        "        out = self.relu(out)\r\n",
        "        out = self.linear2(out)\r\n",
        "        # sigmoid at the end\r\n",
        "        y_pred = torch.sigmoid(out)\r\n",
        "        return y_pred\r\n",
        "\r\n",
        "model = NeuralNet1(input_size=28*28, hidden_size=5)\r\n",
        "criterion = nn.BCELoss()\r\n"
      ],
      "execution_count": 12,
      "outputs": []
    },
    {
      "cell_type": "code",
      "metadata": {
        "id": "QO1qFGYx7u1F"
      },
      "source": [
        "# Multiclass problem\r\n",
        "class NeuralNet2(nn.Module):\r\n",
        "    def __init__(self, input_size, hidden_size, num_classes):\r\n",
        "        super(NeuralNet2, self).__init__()\r\n",
        "        self.linear1 = nn.Linear(input_size, hidden_size) \r\n",
        "        self.relu = nn.ReLU()\r\n",
        "        self.linear2 = nn.Linear(hidden_size, num_classes)  \r\n",
        "    \r\n",
        "    def forward(self, x):\r\n",
        "        out = self.linear1(x)\r\n",
        "        out = self.relu(out)\r\n",
        "        out = self.linear2(out)\r\n",
        "        # no softmax at the end\r\n",
        "        return out\r\n",
        "\r\n",
        "model = NeuralNet2(input_size=28*28, hidden_size=5, num_classes=3)\r\n",
        "criterion = nn.CrossEntropyLoss()  # (applies Softmax)\r\n"
      ],
      "execution_count": 13,
      "outputs": []
    }
  ]
}