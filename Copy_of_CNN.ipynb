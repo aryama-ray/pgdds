{
  "nbformat": 4,
  "nbformat_minor": 0,
  "metadata": {
    "colab": {
      "name": "Copy of CNN.ipynb",
      "provenance": [],
      "include_colab_link": true
    },
    "kernelspec": {
      "name": "python3",
      "display_name": "Python 3"
    },
    "accelerator": "GPU",
    "widgets": {
      "application/vnd.jupyter.widget-state+json": {
        "a60720bf6ba84d009a4e4cd44bd8ec82": {
          "model_module": "@jupyter-widgets/controls",
          "model_name": "HBoxModel",
          "state": {
            "_view_name": "HBoxView",
            "_dom_classes": [],
            "_model_name": "HBoxModel",
            "_view_module": "@jupyter-widgets/controls",
            "_model_module_version": "1.5.0",
            "_view_count": null,
            "_view_module_version": "1.5.0",
            "box_style": "",
            "layout": "IPY_MODEL_1b0cacdd97104dd886873f1884d57147",
            "_model_module": "@jupyter-widgets/controls",
            "children": [
              "IPY_MODEL_61f1aebd925d48ea834282148a0de53a",
              "IPY_MODEL_6839ed968f8d45b09f38df3cbb6327ec"
            ]
          }
        },
        "1b0cacdd97104dd886873f1884d57147": {
          "model_module": "@jupyter-widgets/base",
          "model_name": "LayoutModel",
          "state": {
            "_view_name": "LayoutView",
            "grid_template_rows": null,
            "right": null,
            "justify_content": null,
            "_view_module": "@jupyter-widgets/base",
            "overflow": null,
            "_model_module_version": "1.2.0",
            "_view_count": null,
            "flex_flow": null,
            "width": null,
            "min_width": null,
            "border": null,
            "align_items": null,
            "bottom": null,
            "_model_module": "@jupyter-widgets/base",
            "top": null,
            "grid_column": null,
            "overflow_y": null,
            "overflow_x": null,
            "grid_auto_flow": null,
            "grid_area": null,
            "grid_template_columns": null,
            "flex": null,
            "_model_name": "LayoutModel",
            "justify_items": null,
            "grid_row": null,
            "max_height": null,
            "align_content": null,
            "visibility": null,
            "align_self": null,
            "height": null,
            "min_height": null,
            "padding": null,
            "grid_auto_rows": null,
            "grid_gap": null,
            "max_width": null,
            "order": null,
            "_view_module_version": "1.2.0",
            "grid_template_areas": null,
            "object_position": null,
            "object_fit": null,
            "grid_auto_columns": null,
            "margin": null,
            "display": null,
            "left": null
          }
        },
        "61f1aebd925d48ea834282148a0de53a": {
          "model_module": "@jupyter-widgets/controls",
          "model_name": "FloatProgressModel",
          "state": {
            "_view_name": "ProgressView",
            "style": "IPY_MODEL_a659c13887184086a8fb3b2d689b950c",
            "_dom_classes": [],
            "description": "",
            "_model_name": "FloatProgressModel",
            "bar_style": "success",
            "max": 170498071,
            "_view_module": "@jupyter-widgets/controls",
            "_model_module_version": "1.5.0",
            "value": 170498071,
            "_view_count": null,
            "_view_module_version": "1.5.0",
            "orientation": "horizontal",
            "min": 0,
            "description_tooltip": null,
            "_model_module": "@jupyter-widgets/controls",
            "layout": "IPY_MODEL_664a7b4f08434729906b2ae2b4cf796b"
          }
        },
        "6839ed968f8d45b09f38df3cbb6327ec": {
          "model_module": "@jupyter-widgets/controls",
          "model_name": "HTMLModel",
          "state": {
            "_view_name": "HTMLView",
            "style": "IPY_MODEL_ae9f4fedd41a4cbbb99952522946e4fa",
            "_dom_classes": [],
            "description": "",
            "_model_name": "HTMLModel",
            "placeholder": "​",
            "_view_module": "@jupyter-widgets/controls",
            "_model_module_version": "1.5.0",
            "value": " 170499072/? [00:03&lt;00:00, 46444359.78it/s]",
            "_view_count": null,
            "_view_module_version": "1.5.0",
            "description_tooltip": null,
            "_model_module": "@jupyter-widgets/controls",
            "layout": "IPY_MODEL_694eefa960314ac5bc7f6c1ae858bdd7"
          }
        },
        "a659c13887184086a8fb3b2d689b950c": {
          "model_module": "@jupyter-widgets/controls",
          "model_name": "ProgressStyleModel",
          "state": {
            "_view_name": "StyleView",
            "_model_name": "ProgressStyleModel",
            "description_width": "initial",
            "_view_module": "@jupyter-widgets/base",
            "_model_module_version": "1.5.0",
            "_view_count": null,
            "_view_module_version": "1.2.0",
            "bar_color": null,
            "_model_module": "@jupyter-widgets/controls"
          }
        },
        "664a7b4f08434729906b2ae2b4cf796b": {
          "model_module": "@jupyter-widgets/base",
          "model_name": "LayoutModel",
          "state": {
            "_view_name": "LayoutView",
            "grid_template_rows": null,
            "right": null,
            "justify_content": null,
            "_view_module": "@jupyter-widgets/base",
            "overflow": null,
            "_model_module_version": "1.2.0",
            "_view_count": null,
            "flex_flow": null,
            "width": null,
            "min_width": null,
            "border": null,
            "align_items": null,
            "bottom": null,
            "_model_module": "@jupyter-widgets/base",
            "top": null,
            "grid_column": null,
            "overflow_y": null,
            "overflow_x": null,
            "grid_auto_flow": null,
            "grid_area": null,
            "grid_template_columns": null,
            "flex": null,
            "_model_name": "LayoutModel",
            "justify_items": null,
            "grid_row": null,
            "max_height": null,
            "align_content": null,
            "visibility": null,
            "align_self": null,
            "height": null,
            "min_height": null,
            "padding": null,
            "grid_auto_rows": null,
            "grid_gap": null,
            "max_width": null,
            "order": null,
            "_view_module_version": "1.2.0",
            "grid_template_areas": null,
            "object_position": null,
            "object_fit": null,
            "grid_auto_columns": null,
            "margin": null,
            "display": null,
            "left": null
          }
        },
        "ae9f4fedd41a4cbbb99952522946e4fa": {
          "model_module": "@jupyter-widgets/controls",
          "model_name": "DescriptionStyleModel",
          "state": {
            "_view_name": "StyleView",
            "_model_name": "DescriptionStyleModel",
            "description_width": "",
            "_view_module": "@jupyter-widgets/base",
            "_model_module_version": "1.5.0",
            "_view_count": null,
            "_view_module_version": "1.2.0",
            "_model_module": "@jupyter-widgets/controls"
          }
        },
        "694eefa960314ac5bc7f6c1ae858bdd7": {
          "model_module": "@jupyter-widgets/base",
          "model_name": "LayoutModel",
          "state": {
            "_view_name": "LayoutView",
            "grid_template_rows": null,
            "right": null,
            "justify_content": null,
            "_view_module": "@jupyter-widgets/base",
            "overflow": null,
            "_model_module_version": "1.2.0",
            "_view_count": null,
            "flex_flow": null,
            "width": null,
            "min_width": null,
            "border": null,
            "align_items": null,
            "bottom": null,
            "_model_module": "@jupyter-widgets/base",
            "top": null,
            "grid_column": null,
            "overflow_y": null,
            "overflow_x": null,
            "grid_auto_flow": null,
            "grid_area": null,
            "grid_template_columns": null,
            "flex": null,
            "_model_name": "LayoutModel",
            "justify_items": null,
            "grid_row": null,
            "max_height": null,
            "align_content": null,
            "visibility": null,
            "align_self": null,
            "height": null,
            "min_height": null,
            "padding": null,
            "grid_auto_rows": null,
            "grid_gap": null,
            "max_width": null,
            "order": null,
            "_view_module_version": "1.2.0",
            "grid_template_areas": null,
            "object_position": null,
            "object_fit": null,
            "grid_auto_columns": null,
            "margin": null,
            "display": null,
            "left": null
          }
        }
      }
    }
  },
  "cells": [
    {
      "cell_type": "markdown",
      "metadata": {
        "id": "view-in-github",
        "colab_type": "text"
      },
      "source": [
        "<a href=\"https://colab.research.google.com/github/aryama-ray/pgdds/blob/arymain/Copy_of_CNN.ipynb\" target=\"_parent\"><img src=\"https://colab.research.google.com/assets/colab-badge.svg\" alt=\"Open In Colab\"/></a>"
      ]
    },
    {
      "cell_type": "code",
      "metadata": {
        "id": "hG0KTqpi_jy0"
      },
      "source": [
        "import torch\r\n",
        "import torch.nn as nn\r\n",
        "import torch.nn.functional as F\r\n",
        "import torchvision\r\n",
        "import torchvision.transforms as transforms\r\n",
        "import matplotlib.pyplot as plt\r\n",
        "import numpy as np"
      ],
      "execution_count": 1,
      "outputs": []
    },
    {
      "cell_type": "code",
      "metadata": {
        "id": "Br4XYqR6_mGN"
      },
      "source": [
        "# Device configuration\r\n",
        "device = torch.device('cuda' if torch.cuda.is_available() else 'cpu')"
      ],
      "execution_count": 2,
      "outputs": []
    },
    {
      "cell_type": "code",
      "metadata": {
        "id": "PpnOSAik_oHQ"
      },
      "source": [
        "# Hyper-parameters \r\n",
        "num_epochs = 5\r\n",
        "batch_size = 4\r\n",
        "learning_rate = 0.001"
      ],
      "execution_count": 3,
      "outputs": []
    },
    {
      "cell_type": "code",
      "metadata": {
        "id": "6DOcTK-y_qW-",
        "colab": {
          "base_uri": "https://localhost:8080/",
          "height": 117,
          "referenced_widgets": [
            "a60720bf6ba84d009a4e4cd44bd8ec82",
            "1b0cacdd97104dd886873f1884d57147",
            "61f1aebd925d48ea834282148a0de53a",
            "6839ed968f8d45b09f38df3cbb6327ec",
            "a659c13887184086a8fb3b2d689b950c",
            "664a7b4f08434729906b2ae2b4cf796b",
            "ae9f4fedd41a4cbbb99952522946e4fa",
            "694eefa960314ac5bc7f6c1ae858bdd7"
          ]
        },
        "outputId": "82235b7c-5613-468a-e69b-eacdb2dfc0fb"
      },
      "source": [
        "# dataset has PILImage images of range [0, 1]. \r\n",
        "# We transform them to Tensors of normalized range [-1, 1]\r\n",
        "transform = transforms.Compose(\r\n",
        "    [transforms.ToTensor(),\r\n",
        "     transforms.Normalize((0.5, 0.5, 0.5), (0.5, 0.5, 0.5))])\r\n",
        "\r\n",
        "# CIFAR10: 60000 32x32 color images in 10 classes, with 6000 images per class\r\n",
        "train_dataset = torchvision.datasets.CIFAR10(root='./data', train=True,\r\n",
        "                                        download=True, transform=transform)\r\n",
        "\r\n",
        "test_dataset = torchvision.datasets.CIFAR10(root='./data', train=False,\r\n",
        "                                       download=True, transform=transform)\r\n",
        "\r\n",
        "train_loader = torch.utils.data.DataLoader(train_dataset, batch_size=batch_size,\r\n",
        "                                          shuffle=True)\r\n",
        "\r\n",
        "test_loader = torch.utils.data.DataLoader(test_dataset, batch_size=batch_size,\r\n",
        "                                         shuffle=False)"
      ],
      "execution_count": 4,
      "outputs": [
        {
          "output_type": "stream",
          "text": [
            "Downloading https://www.cs.toronto.edu/~kriz/cifar-10-python.tar.gz to ./data/cifar-10-python.tar.gz\n"
          ],
          "name": "stdout"
        },
        {
          "output_type": "display_data",
          "data": {
            "application/vnd.jupyter.widget-view+json": {
              "model_id": "a60720bf6ba84d009a4e4cd44bd8ec82",
              "version_minor": 0,
              "version_major": 2
            },
            "text/plain": [
              "HBox(children=(FloatProgress(value=0.0, max=170498071.0), HTML(value='')))"
            ]
          },
          "metadata": {
            "tags": []
          }
        },
        {
          "output_type": "stream",
          "text": [
            "\n",
            "Extracting ./data/cifar-10-python.tar.gz to ./data\n",
            "Files already downloaded and verified\n"
          ],
          "name": "stdout"
        }
      ]
    },
    {
      "cell_type": "code",
      "metadata": {
        "id": "kFajpu63_tkd"
      },
      "source": [
        "classes = ('plane', 'car', 'bird', 'cat',\r\n",
        "           'deer', 'dog', 'frog', 'horse', 'ship', 'truck')"
      ],
      "execution_count": 5,
      "outputs": []
    },
    {
      "cell_type": "code",
      "metadata": {
        "id": "1cEJv_QL_v9m"
      },
      "source": [
        "def imshow(img):\r\n",
        "    img = img / 2 + 0.5  # unnormalize\r\n",
        "    npimg = img.numpy()\r\n",
        "    plt.imshow(np.transpose(npimg, (1, 2, 0)))\r\n",
        "    plt.show()\r\n"
      ],
      "execution_count": 6,
      "outputs": []
    },
    {
      "cell_type": "code",
      "metadata": {
        "id": "qyhUddtR_yAM"
      },
      "source": [
        "\r\n",
        "# get some random training images\r\n",
        "dataiter = iter(train_loader)\r\n",
        "images, labels = dataiter.next()"
      ],
      "execution_count": 7,
      "outputs": []
    },
    {
      "cell_type": "code",
      "metadata": {
        "id": "NARiT5_p_0js",
        "colab": {
          "base_uri": "https://localhost:8080/",
          "height": 138
        },
        "outputId": "d7ef9a99-58c5-485a-e580-034ac6c40d86"
      },
      "source": [
        "# show images\r\n",
        "imshow(torchvision.utils.make_grid(images))"
      ],
      "execution_count": 8,
      "outputs": [
        {
          "output_type": "display_data",
          "data": {
            "image/png": "[encoded data removed]",
            "text/plain": [
              "<Figure size 432x288 with 1 Axes>"
            ]
          },
          "metadata": {
            "tags": [],
            "needs_background": "light"
          }
        }
      ]
    },
    {
      "cell_type": "code",
      "metadata": {
        "id": "lBsqBn8M_2ls"
      },
      "source": [
        "class ConvNet(nn.Module):\r\n",
        "    def __init__(self):\r\n",
        "        super(ConvNet, self).__init__()\r\n",
        "        self.conv1 = nn.Conv2d(3, 6, 5)\r\n",
        "        self.pool = nn.MaxPool2d(2, 2)\r\n",
        "        self.conv2 = nn.Conv2d(6, 16, 5)\r\n",
        "        self.fc1 = nn.Linear(16 * 5 * 5, 120)\r\n",
        "        self.fc2 = nn.Linear(120, 84)\r\n",
        "        self.fc3 = nn.Linear(84, 10)\r\n",
        "\r\n",
        "    def forward(self, x):\r\n",
        "        # -> n, 3, 32, 32\r\n",
        "        x = self.pool(F.relu(self.conv1(x)))  # -> n, 6, 14, 14\r\n",
        "        x = self.pool(F.relu(self.conv2(x)))  # -> n, 16, 5, 5\r\n",
        "        x = x.view(-1, 16 * 5 * 5)            # -> n, 400\r\n",
        "        x = F.relu(self.fc1(x))               # -> n, 120\r\n",
        "        x = F.relu(self.fc2(x))               # -> n, 84\r\n",
        "        x = self.fc3(x)                       # -> n, 10\r\n",
        "        return x\r\n"
      ],
      "execution_count": 9,
      "outputs": []
    },
    {
      "cell_type": "code",
      "metadata": {
        "id": "CiznaB2U_69T"
      },
      "source": [
        "model = ConvNet().to(device)\r\n",
        "\r\n",
        "criterion = nn.CrossEntropyLoss()\r\n",
        "optimizer = torch.optim.SGD(model.parameters(), lr=learning_rate)\r\n"
      ],
      "execution_count": 11,
      "outputs": []
    },
    {
      "cell_type": "code",
      "metadata": {
        "id": "VQ73s0xS_9Xs",
        "colab": {
          "base_uri": "https://localhost:8080/"
        },
        "outputId": "1eb6aa98-2f25-443e-abcb-4bcada8f4fea"
      },
      "source": [
        "n_total_steps = len(train_loader)\r\n",
        "for epoch in range(num_epochs):\r\n",
        "    for i, (images, labels) in enumerate(train_loader):\r\n",
        "        # origin shape: [4, 3, 32, 32] = 4, 3, 1024\r\n",
        "        # input_layer: 3 input channels, 6 output channels, 5 kernel size\r\n",
        "        images = images.to(device)\r\n",
        "        labels = labels.to(device)\r\n",
        "\r\n",
        "        # Forward pass\r\n",
        "        outputs = model(images)\r\n",
        "        loss = criterion(outputs, labels)\r\n",
        "\r\n",
        "        # Backward and optimize\r\n",
        "        optimizer.zero_grad()\r\n",
        "        loss.backward()\r\n",
        "        optimizer.step()\r\n",
        "\r\n",
        "        if (i+1) % 2000 == 0:\r\n",
        "            print (f'Epoch [{epoch+1}/{num_epochs}], Step [{i+1}/{n_total_steps}], Loss: {loss.item():.4f}')\r\n",
        "\r\n",
        "print('Finished Training')\r\n",
        "PATH = './cnn.pth'\r\n",
        "torch.save(model.state_dict(), PATH)"
      ],
      "execution_count": 12,
      "outputs": [
        {
          "output_type": "stream",
          "text": [
            "Epoch [1/5], Step [2000/12500], Loss: 2.3129\n",
            "Epoch [1/5], Step [4000/12500], Loss: 2.2743\n",
            "Epoch [1/5], Step [6000/12500], Loss: 2.3080\n",
            "Epoch [1/5], Step [8000/12500], Loss: 2.2916\n",
            "Epoch [1/5], Step [10000/12500], Loss: 2.1336\n",
            "Epoch [1/5], Step [12000/12500], Loss: 2.1665\n",
            "Epoch [2/5], Step [2000/12500], Loss: 2.6009\n",
            "Epoch [2/5], Step [4000/12500], Loss: 2.2652\n",
            "Epoch [2/5], Step [6000/12500], Loss: 1.6379\n",
            "Epoch [2/5], Step [8000/12500], Loss: 1.2219\n",
            "Epoch [2/5], Step [10000/12500], Loss: 1.6527\n",
            "Epoch [2/5], Step [12000/12500], Loss: 1.4343\n",
            "Epoch [3/5], Step [2000/12500], Loss: 1.4915\n",
            "Epoch [3/5], Step [4000/12500], Loss: 1.7906\n",
            "Epoch [3/5], Step [6000/12500], Loss: 1.8175\n",
            "Epoch [3/5], Step [8000/12500], Loss: 1.5434\n",
            "Epoch [3/5], Step [10000/12500], Loss: 1.1364\n",
            "Epoch [3/5], Step [12000/12500], Loss: 1.2364\n",
            "Epoch [4/5], Step [2000/12500], Loss: 1.7038\n",
            "Epoch [4/5], Step [4000/12500], Loss: 1.0559\n",
            "Epoch [4/5], Step [6000/12500], Loss: 1.3355\n",
            "Epoch [4/5], Step [8000/12500], Loss: 1.1711\n",
            "Epoch [4/5], Step [10000/12500], Loss: 2.0111\n",
            "Epoch [4/5], Step [12000/12500], Loss: 0.9482\n",
            "Epoch [5/5], Step [2000/12500], Loss: 1.9998\n",
            "Epoch [5/5], Step [4000/12500], Loss: 1.8992\n",
            "Epoch [5/5], Step [6000/12500], Loss: 0.6465\n",
            "Epoch [5/5], Step [8000/12500], Loss: 2.0017\n",
            "Epoch [5/5], Step [10000/12500], Loss: 1.5434\n",
            "Epoch [5/5], Step [12000/12500], Loss: 0.8223\n",
            "Finished Training\n"
          ],
          "name": "stdout"
        }
      ]
    },
    {
      "cell_type": "code",
      "metadata": {
        "id": "HgzALOrjABaL",
        "colab": {
          "base_uri": "https://localhost:8080/"
        },
        "outputId": "3e1c94a1-5627-4637-95d7-7bf033679860"
      },
      "source": [
        "with torch.no_grad():\r\n",
        "    n_correct = 0\r\n",
        "    n_samples = 0\r\n",
        "    n_class_correct = [0 for i in range(10)]\r\n",
        "    n_class_samples = [0 for i in range(10)]\r\n",
        "    for images, labels in test_loader:\r\n",
        "        images = images.to(device)\r\n",
        "        labels = labels.to(device)\r\n",
        "        outputs = model(images)\r\n",
        "        # max returns (value ,index)\r\n",
        "        _, predicted = torch.max(outputs, 1)\r\n",
        "        n_samples += labels.size(0)\r\n",
        "        n_correct += (predicted == labels).sum().item()\r\n",
        "        \r\n",
        "        for i in range(batch_size):\r\n",
        "            label = labels[i]\r\n",
        "            pred = predicted[i]\r\n",
        "            if (label == pred):\r\n",
        "                n_class_correct[label] += 1\r\n",
        "            n_class_samples[label] += 1\r\n",
        "\r\n",
        "    acc = 100.0 * n_correct / n_samples\r\n",
        "    print(f'Accuracy of the network: {acc} %')\r\n",
        "\r\n",
        "    for i in range(10):\r\n",
        "        acc = 100.0 * n_class_correct[i] / n_class_samples[i]\r\n",
        "        print(f'Accuracy of {classes[i]}: {acc} %')"
      ],
      "execution_count": 13,
      "outputs": [
        {
          "output_type": "stream",
          "text": [
            "Accuracy of the network: 48.8 %\n",
            "Accuracy of plane: 53.8 %\n",
            "Accuracy of car: 78.6 %\n",
            "Accuracy of bird: 38.4 %\n",
            "Accuracy of cat: 34.9 %\n",
            "Accuracy of deer: 31.1 %\n",
            "Accuracy of dog: 31.0 %\n",
            "Accuracy of frog: 58.0 %\n",
            "Accuracy of horse: 55.5 %\n",
            "Accuracy of ship: 60.4 %\n",
            "Accuracy of truck: 46.3 %\n"
          ],
          "name": "stdout"
        }
      ]
    }
  ]
}